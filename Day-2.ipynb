{
 "cells": [
  {
   "cell_type": "code",
   "execution_count": 152,
   "metadata": {},
   "outputs": [],
   "source": [
    "from collections import defaultdict\n",
    "from functools import reduce\n",
    "import operator\n",
    "\n",
    "f = open(\"input/advent_day_two.txt\", \"r\").readlines()\n",
    "\n",
    "games = [ss.split(': ')[1][:-1].split(';') for ss in f]\n",
    "games = [[ele.strip() for ele in game] for game in games]"
   ]
  },
  {
   "cell_type": "code",
   "execution_count": 164,
   "metadata": {},
   "outputs": [],
   "source": [
    "def build_dict(games):\n",
    "    game_dict = defaultdict(dict)\n",
    "    for j,g in enumerate(games):\n",
    "        game = [[tuple(colour.split(' ')) for colour in draw.strip().split(', ')] for draw in g]\n",
    "\n",
    "        for i, draws in enumerate(game):\n",
    "\n",
    "            game_name = str(j)\n",
    "            draw_name = 'Draw' + str(i)\n",
    "            draw_entry = [(t[1],int(t[0])) for t in draws]\n",
    "            game_dict[game_name][draw_name] = draw_entry\n",
    "\n",
    "    return game_dict\n",
    "\n",
    "def check_possibility(game_dict, balls:list):\n",
    "    possible_games = []\n",
    "\n",
    "    for index,game in game_dict.items():\n",
    "        is_possible = False\n",
    "\n",
    "        for draw in game.values():\n",
    "            draw_dict = dict(draw)\n",
    "            if draw_dict.get('red',0) <= balls.get('red') and draw_dict.get('blue',0) <= balls.get('blue') and draw_dict.get('green',0) <= balls.get('green'):\n",
    "                is_possible = True\n",
    "            else:\n",
    "                is_possible = False\n",
    "                break\n",
    "        if is_possible:\n",
    "            possible_games.append(int(index)+1)\n",
    "    return possible_games\n",
    "\n",
    "\n",
    "def minimum_possible_balls(game_dict, pos_games):\n",
    "    rgb = {}\n",
    "    for i in pos_games:\n",
    "        rgb[i] = {'red':0, 'green': 0, 'blue': 0}\n",
    "\n",
    "        for draws in game_dict.get(str(i)).values():\n",
    "                [rgb[i].update({draw[0]:max(draw[1],rgb[i][draw[0]])}) for draw in draws]\n",
    "    return rgb\n",
    "\n",
    "def prod_of_balls(games_min_balls:dict):\n",
    "        return sum([reduce(operator.mul, min_balls.values(),1) for min_balls in games_min_balls.values()])"
   ]
  },
  {
   "cell_type": "code",
   "execution_count": 180,
   "metadata": {},
   "outputs": [
    {
     "name": "stdout",
     "output_type": "stream",
     "text": [
      "      Part 1 (sum of possible games):                  2061 \n",
      "      Part 2 (sum of product of all games (min):       72596\n"
     ]
    }
   ],
   "source": [
    "d = build_dict(games)\n",
    "possible_games = check_possibility(game_dict=d, balls={'red': 12,'blue': 14,'green': 13})\n",
    "\n",
    "print('\\\n",
    "      Part 1 (sum of possible games):                  {} \\n\\\n",
    "      Part 2 (sum of product of all games (min):       {}'\n",
    "      .format(\n",
    "        sum(possible_games),\n",
    "        prod_of_balls(minimum_possible_balls(d, range(100)))))"
   ]
  },
  {
   "cell_type": "code",
   "execution_count": null,
   "metadata": {},
   "outputs": [],
   "source": []
  }
 ],
 "metadata": {
  "kernelspec": {
   "display_name": "Python 3",
   "language": "python",
   "name": "python3"
  },
  "language_info": {
   "codemirror_mode": {
    "name": "ipython",
    "version": 3
   },
   "file_extension": ".py",
   "mimetype": "text/x-python",
   "name": "python",
   "nbconvert_exporter": "python",
   "pygments_lexer": "ipython3",
   "version": "3.10.11"
  }
 },
 "nbformat": 4,
 "nbformat_minor": 2
}
