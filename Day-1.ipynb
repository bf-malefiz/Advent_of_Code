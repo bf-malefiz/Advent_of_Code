{
 "cells": [
  {
   "cell_type": "code",
   "execution_count": null,
   "metadata": {},
   "outputs": [],
   "source": [
    "import numpy as np\n",
    "import regex as re\n",
    "\n",
    "f = open(\"advent_day_one.txt\", \"r\").readlines()\n",
    "\n",
    "\n",
    "T = [re.findall(r'\\d{1}|one{1}|two{1}|three{1}|four{1}|five{1}|six{1}|seven{1}|eight{1}|nine{1}|zero{1}', line, overlapped=True) for line in list(f)]"
   ]
  },
  {
   "cell_type": "code",
   "execution_count": null,
   "metadata": {},
   "outputs": [],
   "source": [
    "nbrs = dict([(v,e) for e,v in enumerate(['zero', 'one', 'two', 'three', 'four', 'five', 'six', 'seven', 'eight', 'nine'])])\n",
    "\n",
    "for i, line in enumerate(T):\n",
    "    for j, s in enumerate(line):\n",
    "        \n",
    "        try:\n",
    "            T[i][j] = nbrs[s]\n",
    "        except KeyError:\n",
    "            pass"
   ]
  },
  {
   "cell_type": "code",
   "execution_count": 169,
   "metadata": {},
   "outputs": [
    {
     "data": {
      "text/plain": [
       "55291"
      ]
     },
     "execution_count": 169,
     "metadata": {},
     "output_type": "execute_result"
    }
   ],
   "source": [
    "def Extract(lst, index):\n",
    "    return [item[index] for item in lst]\n",
    "\n",
    "z = map(lambda x: str(x[0])+str(x[1]), zip(Extract(T,0),Extract(T,-1)))\n",
    "\n",
    "sum(list(map(int,z)))"
   ]
  }
 ],
 "metadata": {
  "kernelspec": {
   "display_name": "Python 3",
   "language": "python",
   "name": "python3"
  },
  "language_info": {
   "codemirror_mode": {
    "name": "ipython",
    "version": 3
   },
   "file_extension": ".py",
   "mimetype": "text/x-python",
   "name": "python",
   "nbconvert_exporter": "python",
   "pygments_lexer": "ipython3",
   "version": "3.10.11"
  }
 },
 "nbformat": 4,
 "nbformat_minor": 2
}
